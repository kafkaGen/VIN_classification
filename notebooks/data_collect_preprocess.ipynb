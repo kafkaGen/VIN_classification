{
 "cells": [
  {
   "cell_type": "code",
   "execution_count": 30,
   "metadata": {},
   "outputs": [],
   "source": [
    "import zipfile\n",
    "with zipfile.ZipFile('/home/olehborysevych/Dev/Projects/CHI/TestTask/data/archive1.zip', 'r') as zip_ref:\n",
    "    zip_ref.extractall('/home/olehborysevych/Dev/Projects/CHI/TestTask/data/')"
   ]
  },
  {
   "cell_type": "code",
   "execution_count": 7,
   "metadata": {},
   "outputs": [],
   "source": [
    "import pandas as pd\n",
    "import numpy as np\n",
    "import matplotlib.pyplot as plt\n",
    "\n",
    "from sklearn.ensemble import RandomForestClassifier, HistGradientBoostingClassifier\n",
    "from sklearn.metrics import accuracy_score\n",
    "from lightgbm import LGBMClassifier\n",
    "import joblib"
   ]
  },
  {
   "cell_type": "code",
   "execution_count": 38,
   "metadata": {},
   "outputs": [],
   "source": [
    "import os\n",
    "\n",
    "dc = dict()\n",
    "for el in os.listdir('../data/dataset/Train'):\n",
    "    dc[el] = len(os.listdir(os.path.join('../data/dataset/Train', el))) "
   ]
  },
  {
   "cell_type": "code",
   "execution_count": 53,
   "metadata": {},
   "outputs": [
    {
     "data": {
      "text/plain": [
       "4261"
      ]
     },
     "execution_count": 53,
     "metadata": {},
     "output_type": "execute_result"
    }
   ],
   "source": [
    "min(dc.values())"
   ]
  },
  {
   "cell_type": "code",
   "execution_count": 17,
   "metadata": {},
   "outputs": [],
   "source": [
    "df_train = pd.read_csv('../data/emnist-byclass-train.csv', header=None)\n",
    "df_test = pd.read_csv('../data/emnist-byclass-test.csv', header=None)\n",
    "mapping = pd.read_csv('../data/emnist-byclass-mapping.txt', delimiter=' ', \n",
    "                      header=None, index_col=0, names=['ASCII'])#.T.to_dict('records')[0]\n",
    "mapping.index.name = 'label'\n",
    "mapping['char'] = mapping['ASCII'].apply(chr)\n",
    "# leave only digits and upper case letter labels except I, Q and O\n",
    "mapping = mapping[mapping['char'].str.contains(r'^[0-9A-HJ-NP-PR-Z]+$')]\n",
    "df_train = df_train[df_train[0].isin(mapping.index)]\n",
    "df_test = df_test[df_test[0].isin(mapping.index)]\n",
    "train_X, train_y = df_train.loc[:, 1:], df_train.loc[:, 0]\n",
    "test_X, test_y = df_test.loc[:, 1:], df_test.loc[:, 0]"
   ]
  },
  {
   "cell_type": "code",
   "execution_count": 18,
   "metadata": {},
   "outputs": [
    {
     "data": {
      "text/html": [
       "<div>\n",
       "<style scoped>\n",
       "    .dataframe tbody tr th:only-of-type {\n",
       "        vertical-align: middle;\n",
       "    }\n",
       "\n",
       "    .dataframe tbody tr th {\n",
       "        vertical-align: top;\n",
       "    }\n",
       "\n",
       "    .dataframe thead th {\n",
       "        text-align: right;\n",
       "    }\n",
       "</style>\n",
       "<table border=\"1\" class=\"dataframe\">\n",
       "  <thead>\n",
       "    <tr style=\"text-align: right;\">\n",
       "      <th></th>\n",
       "      <th>ASCII</th>\n",
       "      <th>char</th>\n",
       "    </tr>\n",
       "    <tr>\n",
       "      <th>label</th>\n",
       "      <th></th>\n",
       "      <th></th>\n",
       "    </tr>\n",
       "  </thead>\n",
       "  <tbody>\n",
       "    <tr>\n",
       "      <th>31</th>\n",
       "      <td>86</td>\n",
       "      <td>V</td>\n",
       "    </tr>\n",
       "    <tr>\n",
       "      <th>32</th>\n",
       "      <td>87</td>\n",
       "      <td>W</td>\n",
       "    </tr>\n",
       "    <tr>\n",
       "      <th>33</th>\n",
       "      <td>88</td>\n",
       "      <td>X</td>\n",
       "    </tr>\n",
       "    <tr>\n",
       "      <th>34</th>\n",
       "      <td>89</td>\n",
       "      <td>Y</td>\n",
       "    </tr>\n",
       "    <tr>\n",
       "      <th>35</th>\n",
       "      <td>90</td>\n",
       "      <td>Z</td>\n",
       "    </tr>\n",
       "  </tbody>\n",
       "</table>\n",
       "</div>"
      ],
      "text/plain": [
       "       ASCII char\n",
       "label            \n",
       "31        86    V\n",
       "32        87    W\n",
       "33        88    X\n",
       "34        89    Y\n",
       "35        90    Z"
      ]
     },
     "execution_count": 18,
     "metadata": {},
     "output_type": "execute_result"
    }
   ],
   "source": [
    "mapping.tail(5)"
   ]
  },
  {
   "cell_type": "code",
   "execution_count": 19,
   "metadata": {},
   "outputs": [
    {
     "data": {
      "text/plain": [
       "20     2850\n",
       "16     2964\n",
       "35     3165\n",
       "33     3203\n",
       "17     3673\n",
       "19     4388\n",
       "11     4526\n",
       "13     5341\n",
       "31     5433\n",
       "32     5501\n",
       "34     5541\n",
       "14     5785\n",
       "27     5882\n",
       "21     5886\n",
       "10     7469\n",
       "23     9588\n",
       "25     9744\n",
       "22    10487\n",
       "15    10622\n",
       "29    11396\n",
       "12    11833\n",
       "30    14604\n",
       "28    24272\n",
       "5     36606\n",
       "4     39154\n",
       "9     39533\n",
       "8     39579\n",
       "6     39937\n",
       "2     40072\n",
       "0     40363\n",
       "3     41112\n",
       "7     41893\n",
       "1     44704\n",
       "Name: 0, dtype: int64"
      ]
     },
     "execution_count": 19,
     "metadata": {},
     "output_type": "execute_result"
    }
   ],
   "source": [
    "pd.concat((df_train, df_test), axis=0)[0].value_counts().sort_values()"
   ]
  },
  {
   "cell_type": "code",
   "execution_count": 27,
   "metadata": {},
   "outputs": [
    {
     "data": {
      "text/plain": [
       "494459"
      ]
     },
     "execution_count": 27,
     "metadata": {},
     "output_type": "execute_result"
    }
   ],
   "source": [
    "train_X.shape[0]"
   ]
  },
  {
   "cell_type": "code",
   "execution_count": 21,
   "metadata": {},
   "outputs": [
    {
     "data": {
      "text/plain": [
       "0.8503393952593561"
      ]
     },
     "execution_count": 21,
     "metadata": {},
     "output_type": "execute_result"
    }
   ],
   "source": [
    "rfc = LGBMClassifier(n_jobs=-1)\n",
    "rfc.fit(train_X, train_y)\n",
    "pred = rfc.predict(test_X)\n",
    "accuracy_score(test_y, pred)"
   ]
  },
  {
   "cell_type": "code",
   "execution_count": 22,
   "metadata": {},
   "outputs": [],
   "source": [
    "\n",
    "pred = rfc.predict(test_X)"
   ]
  },
  {
   "cell_type": "code",
   "execution_count": 23,
   "metadata": {},
   "outputs": [
    {
     "data": {
      "text/plain": [
       "2.0569409657942818e-05"
      ]
     },
     "execution_count": 23,
     "metadata": {},
     "output_type": "execute_result"
    }
   ],
   "source": [
    "1.7 / test_X.shape[0]"
   ]
  },
  {
   "cell_type": "code",
   "execution_count": 28,
   "metadata": {},
   "outputs": [],
   "source": [
    "import pickle\n",
    "pickle.dump(rfc, open('lgbm.pkl','wb'))\n"
   ]
  },
  {
   "cell_type": "code",
   "execution_count": 29,
   "metadata": {},
   "outputs": [
    {
     "data": {
      "text/plain": [
       "['lgbm.sav']"
      ]
     },
     "execution_count": 29,
     "metadata": {},
     "output_type": "execute_result"
    }
   ],
   "source": [
    "joblib.dump(rfc, 'lgbm.sav')\n"
   ]
  },
  {
   "cell_type": "code",
   "execution_count": 174,
   "metadata": {},
   "outputs": [
    {
     "ename": "error",
     "evalue": "OpenCV(4.7.0) :-1: error: (-5:Bad argument) in function 'train'\n> Overload resolution failed:\n>  - ml_StatModel.train() takes at most 2 keyword arguments (3 given)\n>  - samples is not a numpy array, neither a scalar\n>  - Expected Ptr<cv::UMat> for argument 'samples'\n",
     "output_type": "error",
     "traceback": [
      "\u001b[0;31m---------------------------------------------------------------------------\u001b[0m",
      "\u001b[0;31merror\u001b[0m                                     Traceback (most recent call last)",
      "Cell \u001b[0;32mIn[174], line 10\u001b[0m\n\u001b[1;32m      8\u001b[0m rfc\u001b[39m.\u001b[39msetMinSampleCount(\u001b[39m2\u001b[39m)\n\u001b[1;32m      9\u001b[0m rfc\u001b[39m.\u001b[39msetMaxDepth(\u001b[39m1000\u001b[39m)\n\u001b[0;32m---> 10\u001b[0m rfc\u001b[39m.\u001b[39;49mtrain(samples\u001b[39m=\u001b[39;49mtrain_X, responses\u001b[39m=\u001b[39;49mtrain_y, layout\u001b[39m=\u001b[39;49mcv\u001b[39m.\u001b[39;49mml\u001b[39m.\u001b[39;49mROW_SAMPLE)\n",
      "\u001b[0;31merror\u001b[0m: OpenCV(4.7.0) :-1: error: (-5:Bad argument) in function 'train'\n> Overload resolution failed:\n>  - ml_StatModel.train() takes at most 2 keyword arguments (3 given)\n>  - samples is not a numpy array, neither a scalar\n>  - Expected Ptr<cv::UMat> for argument 'samples'\n"
     ]
    }
   ],
   "source": [
    "rfc = cv.ml.RTrees_create()\n",
    "num_trees = 100 ## No. of trees for training our model\n",
    "eps = 0.01 ## Stops the algorithm if this accuracy is reached (error rate=0.01)\n",
    "criteria = (cv.TERM_CRITERIA_MAX_ITER + cv.TERM_CRITERIA_EPS,\n",
    "            num_trees, eps)\n",
    "rfc.setTermCriteria(criteria) ## defines these criterias for the model rtree\n",
    "rfc.setMaxCategories(len(np.unique(train_y)))\n",
    "rfc.setMinSampleCount(2)\n",
    "rfc.setMaxDepth(1000)\n",
    "rfc.train(samples=train_X, responses=train_y, layout=cv.ml.ROW_SAMPLE)"
   ]
  },
  {
   "cell_type": "code",
   "execution_count": null,
   "metadata": {},
   "outputs": [],
   "source": [
    "a , y_hat = rtree.predict(X_test) ## Predicting the 20% of the data that we took for testing"
   ]
  },
  {
   "cell_type": "code",
   "execution_count": null,
   "metadata": {},
   "outputs": [],
   "source": [
    "from sklearn.metrics import accuracy_score\n",
    "accuracy_score(y_test, y_hat) "
   ]
  }
 ],
 "metadata": {
  "kernelspec": {
   "display_name": "Python 3",
   "language": "python",
   "name": "python3"
  },
  "language_info": {
   "codemirror_mode": {
    "name": "ipython",
    "version": 3
   },
   "file_extension": ".py",
   "mimetype": "text/x-python",
   "name": "python",
   "nbconvert_exporter": "python",
   "pygments_lexer": "ipython3",
   "version": "3.9.16"
  },
  "orig_nbformat": 4
 },
 "nbformat": 4,
 "nbformat_minor": 2
}
